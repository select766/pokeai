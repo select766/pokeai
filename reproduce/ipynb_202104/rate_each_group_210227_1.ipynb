{
 "cells": [
  {
   "cell_type": "code",
   "execution_count": 1,
   "metadata": {},
   "outputs": [],
   "source": [
    "# ループ学習した各iterationでのレーティングバトルを実行"
   ]
  },
  {
   "cell_type": "code",
   "execution_count": 2,
   "metadata": {},
   "outputs": [],
   "source": [
    "from bson import ObjectId\n",
    "import numpy as np\n",
    "from pokeai.util import json_load, pickle_load, ROOT_DIR, DATASET_DIR, yaml_dump\n",
    "from collections import Counter\n",
    "import json\n",
    "import yaml\n",
    "import os\n",
    "import copy"
   ]
  },
  {
   "cell_type": "code",
   "execution_count": 3,
   "metadata": {},
   "outputs": [],
   "source": [
    "file_base_dir = r\"D:\\dev\\pokeai\\pokeai\\experiment\\team\\rl\\rl_loop_210227_1\"\n",
    "tag_prefix = \"rl_loop_210227_1_\""
   ]
  },
  {
   "cell_type": "code",
   "execution_count": 4,
   "metadata": {},
   "outputs": [],
   "source": [
    "with open(os.path.join(file_base_dir, f\"{tag_prefix}run.bat\"), \"r\") as f:\n",
    "    bat_lines = f.readlines()"
   ]
  },
  {
   "cell_type": "code",
   "execution_count": 5,
   "metadata": {
    "scrolled": true
   },
   "outputs": [
    {
     "data": {
      "text/plain": [
       "['\\n',\n",
       " 'python -m pokeai.ai.generate_party rl_loop_210227_1_hc_0 -n 871 -r finalgoodmove3vs3\\n',\n",
       " '\\n',\n",
       " 'python -m pokeai.ai.generate_party rl_loop_210227_1_allonce_0 --all_pokemon_once -r finalgoodmove3vs3\\n',\n",
       " 'python -m pokeai.ai.generic_move_model.rl_train D:\\\\dev\\\\pokeai\\\\pokeai\\\\experiment\\\\team\\\\rl\\\\rl_loop_210227_1\\\\rl_loop_210227_1_0_train.yaml \\n',\n",
       " 'python -m pokeai.ai.party_feature.hillclimb_party D:\\\\dev\\\\pokeai\\\\pokeai\\\\experiment\\\\team\\\\rl\\\\rl_loop_210227_1\\\\rl_loop_210227_1_0_hc.yaml\\n',\n",
       " 'rem {\"iternum\": 0, \"trainer_id\": \"6039caccaf28292a4eae380a\", \"train_party_tags\": [\"rl_loop_210227_1_allonce_0\", \"rl_loop_210227_1_hc_0\"], \"gen_party_tag\": \"rl_loop_210227_1_hc_1\"}\\n',\n",
       " '\\n',\n",
       " 'python -m pokeai.ai.generate_party rl_loop_210227_1_allonce_1 --all_pokemon_once -r finalgoodmove3vs3\\n',\n",
       " 'python -m pokeai.ai.generic_move_model.rl_train D:\\\\dev\\\\pokeai\\\\pokeai\\\\experiment\\\\team\\\\rl\\\\rl_loop_210227_1\\\\rl_loop_210227_1_1_train.yaml --initialize_by_trainer 6039caccaf28292a4eae380a\\n',\n",
       " 'python -m pokeai.ai.party_feature.hillclimb_party D:\\\\dev\\\\pokeai\\\\pokeai\\\\experiment\\\\team\\\\rl\\\\rl_loop_210227_1\\\\rl_loop_210227_1_1_hc.yaml\\n',\n",
       " 'rem {\"iternum\": 1, \"trainer_id\": \"6039caccaf28292a4eae380b\", \"train_party_tags\": [\"rl_loop_210227_1_allonce_1\", \"rl_loop_210227_1_hc_1\"], \"gen_party_tag\": \"rl_loop_210227_1_hc_2\"}\\n',\n",
       " '\\n',\n",
       " 'python -m pokeai.ai.generate_party rl_loop_210227_1_allonce_2 --all_pokemon_once -r finalgoodmove3vs3\\n',\n",
       " 'python -m pokeai.ai.generic_move_model.rl_train D:\\\\dev\\\\pokeai\\\\pokeai\\\\experiment\\\\team\\\\rl\\\\rl_loop_210227_1\\\\rl_loop_210227_1_2_train.yaml --initialize_by_trainer 6039caccaf28292a4eae380b\\n',\n",
       " 'python -m pokeai.ai.party_feature.hillclimb_party D:\\\\dev\\\\pokeai\\\\pokeai\\\\experiment\\\\team\\\\rl\\\\rl_loop_210227_1\\\\rl_loop_210227_1_2_hc.yaml\\n',\n",
       " 'rem {\"iternum\": 2, \"trainer_id\": \"6039caccaf28292a4eae380c\", \"train_party_tags\": [\"rl_loop_210227_1_allonce_2\", \"rl_loop_210227_1_hc_2\"], \"gen_party_tag\": \"rl_loop_210227_1_hc_3\"}\\n',\n",
       " '\\n',\n",
       " 'python -m pokeai.ai.generate_party rl_loop_210227_1_allonce_3 --all_pokemon_once -r finalgoodmove3vs3\\n',\n",
       " 'python -m pokeai.ai.generic_move_model.rl_train D:\\\\dev\\\\pokeai\\\\pokeai\\\\experiment\\\\team\\\\rl\\\\rl_loop_210227_1\\\\rl_loop_210227_1_3_train.yaml --initialize_by_trainer 6039caccaf28292a4eae380c\\n',\n",
       " 'python -m pokeai.ai.party_feature.hillclimb_party D:\\\\dev\\\\pokeai\\\\pokeai\\\\experiment\\\\team\\\\rl\\\\rl_loop_210227_1\\\\rl_loop_210227_1_3_hc.yaml\\n',\n",
       " 'rem {\"iternum\": 3, \"trainer_id\": \"6039caccaf28292a4eae380d\", \"train_party_tags\": [\"rl_loop_210227_1_allonce_3\", \"rl_loop_210227_1_hc_3\"], \"gen_party_tag\": \"rl_loop_210227_1_hc_4\"}\\n',\n",
       " '\\n',\n",
       " 'python -m pokeai.ai.generate_party rl_loop_210227_1_allonce_4 --all_pokemon_once -r finalgoodmove3vs3\\n',\n",
       " 'python -m pokeai.ai.generic_move_model.rl_train D:\\\\dev\\\\pokeai\\\\pokeai\\\\experiment\\\\team\\\\rl\\\\rl_loop_210227_1\\\\rl_loop_210227_1_4_train.yaml --initialize_by_trainer 6039caccaf28292a4eae380d\\n',\n",
       " 'python -m pokeai.ai.party_feature.hillclimb_party D:\\\\dev\\\\pokeai\\\\pokeai\\\\experiment\\\\team\\\\rl\\\\rl_loop_210227_1\\\\rl_loop_210227_1_4_hc.yaml\\n',\n",
       " 'rem {\"iternum\": 4, \"trainer_id\": \"6039caccaf28292a4eae380e\", \"train_party_tags\": [\"rl_loop_210227_1_allonce_4\", \"rl_loop_210227_1_hc_4\"], \"gen_party_tag\": \"rl_loop_210227_1_hc_5\"}\\n',\n",
       " '\\n',\n",
       " 'python -m pokeai.ai.generate_party rl_loop_210227_1_allonce_5 --all_pokemon_once -r finalgoodmove3vs3\\n',\n",
       " 'python -m pokeai.ai.generic_move_model.rl_train D:\\\\dev\\\\pokeai\\\\pokeai\\\\experiment\\\\team\\\\rl\\\\rl_loop_210227_1\\\\rl_loop_210227_1_5_train.yaml --initialize_by_trainer 6039caccaf28292a4eae380e\\n',\n",
       " 'python -m pokeai.ai.party_feature.hillclimb_party D:\\\\dev\\\\pokeai\\\\pokeai\\\\experiment\\\\team\\\\rl\\\\rl_loop_210227_1\\\\rl_loop_210227_1_5_hc.yaml\\n',\n",
       " 'rem {\"iternum\": 5, \"trainer_id\": \"6039caccaf28292a4eae380f\", \"train_party_tags\": [\"rl_loop_210227_1_allonce_5\", \"rl_loop_210227_1_hc_5\"], \"gen_party_tag\": \"rl_loop_210227_1_hc_6\"}\\n',\n",
       " '\\n',\n",
       " 'python -m pokeai.ai.generate_party rl_loop_210227_1_allonce_6 --all_pokemon_once -r finalgoodmove3vs3\\n',\n",
       " 'python -m pokeai.ai.generic_move_model.rl_train D:\\\\dev\\\\pokeai\\\\pokeai\\\\experiment\\\\team\\\\rl\\\\rl_loop_210227_1\\\\rl_loop_210227_1_6_train.yaml --initialize_by_trainer 6039caccaf28292a4eae380f\\n',\n",
       " 'python -m pokeai.ai.party_feature.hillclimb_party D:\\\\dev\\\\pokeai\\\\pokeai\\\\experiment\\\\team\\\\rl\\\\rl_loop_210227_1\\\\rl_loop_210227_1_6_hc.yaml\\n',\n",
       " 'rem {\"iternum\": 6, \"trainer_id\": \"6039caccaf28292a4eae3810\", \"train_party_tags\": [\"rl_loop_210227_1_allonce_6\", \"rl_loop_210227_1_hc_6\"], \"gen_party_tag\": \"rl_loop_210227_1_hc_7\"}\\n',\n",
       " '\\n',\n",
       " 'python -m pokeai.ai.generate_party rl_loop_210227_1_allonce_7 --all_pokemon_once -r finalgoodmove3vs3\\n',\n",
       " 'python -m pokeai.ai.generic_move_model.rl_train D:\\\\dev\\\\pokeai\\\\pokeai\\\\experiment\\\\team\\\\rl\\\\rl_loop_210227_1\\\\rl_loop_210227_1_7_train.yaml --initialize_by_trainer 6039caccaf28292a4eae3810\\n',\n",
       " 'python -m pokeai.ai.party_feature.hillclimb_party D:\\\\dev\\\\pokeai\\\\pokeai\\\\experiment\\\\team\\\\rl\\\\rl_loop_210227_1\\\\rl_loop_210227_1_7_hc.yaml\\n',\n",
       " 'rem {\"iternum\": 7, \"trainer_id\": \"6039caccaf28292a4eae3811\", \"train_party_tags\": [\"rl_loop_210227_1_allonce_7\", \"rl_loop_210227_1_hc_7\"], \"gen_party_tag\": \"rl_loop_210227_1_hc_8\"}\\n',\n",
       " '\\n',\n",
       " 'python -m pokeai.ai.generate_party rl_loop_210227_1_allonce_8 --all_pokemon_once -r finalgoodmove3vs3\\n',\n",
       " 'python -m pokeai.ai.generic_move_model.rl_train D:\\\\dev\\\\pokeai\\\\pokeai\\\\experiment\\\\team\\\\rl\\\\rl_loop_210227_1\\\\rl_loop_210227_1_8_train.yaml --initialize_by_trainer 6039caccaf28292a4eae3811\\n',\n",
       " 'python -m pokeai.ai.party_feature.hillclimb_party D:\\\\dev\\\\pokeai\\\\pokeai\\\\experiment\\\\team\\\\rl\\\\rl_loop_210227_1\\\\rl_loop_210227_1_8_hc.yaml\\n',\n",
       " 'rem {\"iternum\": 8, \"trainer_id\": \"6039caccaf28292a4eae3812\", \"train_party_tags\": [\"rl_loop_210227_1_allonce_8\", \"rl_loop_210227_1_hc_8\"], \"gen_party_tag\": \"rl_loop_210227_1_hc_9\"}\\n',\n",
       " '\\n',\n",
       " 'python -m pokeai.ai.generate_party rl_loop_210227_1_allonce_9 --all_pokemon_once -r finalgoodmove3vs3\\n',\n",
       " 'python -m pokeai.ai.generic_move_model.rl_train D:\\\\dev\\\\pokeai\\\\pokeai\\\\experiment\\\\team\\\\rl\\\\rl_loop_210227_1\\\\rl_loop_210227_1_9_train.yaml --initialize_by_trainer 6039caccaf28292a4eae3812\\n',\n",
       " 'python -m pokeai.ai.party_feature.hillclimb_party D:\\\\dev\\\\pokeai\\\\pokeai\\\\experiment\\\\team\\\\rl\\\\rl_loop_210227_1\\\\rl_loop_210227_1_9_hc.yaml\\n',\n",
       " 'rem {\"iternum\": 9, \"trainer_id\": \"6039caccaf28292a4eae3813\", \"train_party_tags\": [\"rl_loop_210227_1_allonce_9\", \"rl_loop_210227_1_hc_9\"], \"gen_party_tag\": \"rl_loop_210227_1_hc_10\"}\\n']"
      ]
     },
     "execution_count": 5,
     "metadata": {},
     "output_type": "execute_result"
    }
   ],
   "source": [
    "bat_lines"
   ]
  },
  {
   "cell_type": "code",
   "execution_count": 6,
   "metadata": {},
   "outputs": [],
   "source": [
    "configs = []\n",
    "for line in bat_lines:\n",
    "    if line.startswith(\"rem \"):\n",
    "        configs.append(json.loads(line[4:]))"
   ]
  },
  {
   "cell_type": "code",
   "execution_count": 7,
   "metadata": {},
   "outputs": [
    {
     "data": {
      "text/plain": [
       "[{'iternum': 0,\n",
       "  'trainer_id': '6039caccaf28292a4eae380a',\n",
       "  'train_party_tags': ['rl_loop_210227_1_allonce_0', 'rl_loop_210227_1_hc_0'],\n",
       "  'gen_party_tag': 'rl_loop_210227_1_hc_1'},\n",
       " {'iternum': 1,\n",
       "  'trainer_id': '6039caccaf28292a4eae380b',\n",
       "  'train_party_tags': ['rl_loop_210227_1_allonce_1', 'rl_loop_210227_1_hc_1'],\n",
       "  'gen_party_tag': 'rl_loop_210227_1_hc_2'},\n",
       " {'iternum': 2,\n",
       "  'trainer_id': '6039caccaf28292a4eae380c',\n",
       "  'train_party_tags': ['rl_loop_210227_1_allonce_2', 'rl_loop_210227_1_hc_2'],\n",
       "  'gen_party_tag': 'rl_loop_210227_1_hc_3'},\n",
       " {'iternum': 3,\n",
       "  'trainer_id': '6039caccaf28292a4eae380d',\n",
       "  'train_party_tags': ['rl_loop_210227_1_allonce_3', 'rl_loop_210227_1_hc_3'],\n",
       "  'gen_party_tag': 'rl_loop_210227_1_hc_4'},\n",
       " {'iternum': 4,\n",
       "  'trainer_id': '6039caccaf28292a4eae380e',\n",
       "  'train_party_tags': ['rl_loop_210227_1_allonce_4', 'rl_loop_210227_1_hc_4'],\n",
       "  'gen_party_tag': 'rl_loop_210227_1_hc_5'},\n",
       " {'iternum': 5,\n",
       "  'trainer_id': '6039caccaf28292a4eae380f',\n",
       "  'train_party_tags': ['rl_loop_210227_1_allonce_5', 'rl_loop_210227_1_hc_5'],\n",
       "  'gen_party_tag': 'rl_loop_210227_1_hc_6'},\n",
       " {'iternum': 6,\n",
       "  'trainer_id': '6039caccaf28292a4eae3810',\n",
       "  'train_party_tags': ['rl_loop_210227_1_allonce_6', 'rl_loop_210227_1_hc_6'],\n",
       "  'gen_party_tag': 'rl_loop_210227_1_hc_7'},\n",
       " {'iternum': 7,\n",
       "  'trainer_id': '6039caccaf28292a4eae3811',\n",
       "  'train_party_tags': ['rl_loop_210227_1_allonce_7', 'rl_loop_210227_1_hc_7'],\n",
       "  'gen_party_tag': 'rl_loop_210227_1_hc_8'},\n",
       " {'iternum': 8,\n",
       "  'trainer_id': '6039caccaf28292a4eae3812',\n",
       "  'train_party_tags': ['rl_loop_210227_1_allonce_8', 'rl_loop_210227_1_hc_8'],\n",
       "  'gen_party_tag': 'rl_loop_210227_1_hc_9'},\n",
       " {'iternum': 9,\n",
       "  'trainer_id': '6039caccaf28292a4eae3813',\n",
       "  'train_party_tags': ['rl_loop_210227_1_allonce_9', 'rl_loop_210227_1_hc_9'],\n",
       "  'gen_party_tag': 'rl_loop_210227_1_hc_10'}]"
      ]
     },
     "execution_count": 7,
     "metadata": {},
     "output_type": "execute_result"
    }
   ],
   "source": [
    "configs"
   ]
  },
  {
   "cell_type": "code",
   "execution_count": 8,
   "metadata": {},
   "outputs": [],
   "source": [
    "rate_ids = [ObjectId() for _ in range(len(configs))]"
   ]
  },
  {
   "cell_type": "code",
   "execution_count": 9,
   "metadata": {},
   "outputs": [],
   "source": [
    "import subprocess"
   ]
  },
  {
   "cell_type": "code",
   "execution_count": 10,
   "metadata": {},
   "outputs": [
    {
     "name": "stdout",
     "output_type": "stream",
     "text": [
      "python -m pokeai.ai.generic_move_model.rl_rating_battle 6039caccaf28292a4eae380a rl_loop_210227_1_allonce_0,rl_loop_210227_1_hc_0 --rate_id 6049e2cd3410a8cbf644a642\n",
      "python -m pokeai.ai.generic_move_model.rl_rating_battle 6039caccaf28292a4eae380b rl_loop_210227_1_allonce_1,rl_loop_210227_1_hc_1 --rate_id 6049e2cd3410a8cbf644a643\n",
      "python -m pokeai.ai.generic_move_model.rl_rating_battle 6039caccaf28292a4eae380c rl_loop_210227_1_allonce_2,rl_loop_210227_1_hc_2 --rate_id 6049e2cd3410a8cbf644a644\n",
      "python -m pokeai.ai.generic_move_model.rl_rating_battle 6039caccaf28292a4eae380d rl_loop_210227_1_allonce_3,rl_loop_210227_1_hc_3 --rate_id 6049e2cd3410a8cbf644a645\n",
      "python -m pokeai.ai.generic_move_model.rl_rating_battle 6039caccaf28292a4eae380e rl_loop_210227_1_allonce_4,rl_loop_210227_1_hc_4 --rate_id 6049e2cd3410a8cbf644a646\n",
      "python -m pokeai.ai.generic_move_model.rl_rating_battle 6039caccaf28292a4eae380f rl_loop_210227_1_allonce_5,rl_loop_210227_1_hc_5 --rate_id 6049e2cd3410a8cbf644a647\n",
      "python -m pokeai.ai.generic_move_model.rl_rating_battle 6039caccaf28292a4eae3810 rl_loop_210227_1_allonce_6,rl_loop_210227_1_hc_6 --rate_id 6049e2cd3410a8cbf644a648\n",
      "python -m pokeai.ai.generic_move_model.rl_rating_battle 6039caccaf28292a4eae3811 rl_loop_210227_1_allonce_7,rl_loop_210227_1_hc_7 --rate_id 6049e2cd3410a8cbf644a649\n",
      "python -m pokeai.ai.generic_move_model.rl_rating_battle 6039caccaf28292a4eae3812 rl_loop_210227_1_allonce_8,rl_loop_210227_1_hc_8 --rate_id 6049e2cd3410a8cbf644a64a\n",
      "python -m pokeai.ai.generic_move_model.rl_rating_battle 6039caccaf28292a4eae3813 rl_loop_210227_1_allonce_9,rl_loop_210227_1_hc_9 --rate_id 6049e2cd3410a8cbf644a64b\n"
     ]
    }
   ],
   "source": [
    "for config, rate_id in zip(configs, rate_ids):\n",
    "    cmd = f\"python -m pokeai.ai.generic_move_model.rl_rating_battle {config['trainer_id']} {','.join(config['train_party_tags'])} --rate_id {rate_id}\"\n",
    "    print(cmd)\n",
    "    subprocess.check_call(cmd, shell=True)"
   ]
  },
  {
   "cell_type": "code",
   "execution_count": 11,
   "metadata": {},
   "outputs": [],
   "source": [
    "iter_ids = []\n",
    "for config, rate_id in zip(configs, rate_ids):\n",
    "    c = copy.deepcopy(config)\n",
    "    c[\"rate_id\"] = str(rate_id)\n",
    "    iter_ids.append(c)\n",
    "with open(os.path.join(file_base_dir, f\"iter_ids.json\"), \"w\") as f:\n",
    "    json.dump(iter_ids, f)"
   ]
  },
  {
   "cell_type": "code",
   "execution_count": null,
   "metadata": {},
   "outputs": [],
   "source": []
  }
 ],
 "metadata": {
  "kernelspec": {
   "display_name": "Python 3",
   "language": "python",
   "name": "python3"
  },
  "language_info": {
   "codemirror_mode": {
    "name": "ipython",
    "version": 3
   },
   "file_extension": ".py",
   "mimetype": "text/x-python",
   "name": "python",
   "nbconvert_exporter": "python",
   "pygments_lexer": "ipython3",
   "version": "3.8.1"
  }
 },
 "nbformat": 4,
 "nbformat_minor": 4
}
