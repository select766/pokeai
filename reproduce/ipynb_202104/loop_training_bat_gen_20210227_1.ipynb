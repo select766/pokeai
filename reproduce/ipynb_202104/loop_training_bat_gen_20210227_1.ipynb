{
 "cells": [
  {
   "cell_type": "code",
   "execution_count": 1,
   "metadata": {},
   "outputs": [],
   "source": [
    "from bson import ObjectId\n",
    "import numpy as np\n",
    "from pokeai.util import json_load, pickle_load, ROOT_DIR, DATASET_DIR, yaml_dump\n",
    "from collections import Counter\n",
    "import json\n",
    "import yaml\n",
    "import os\n",
    "import copy"
   ]
  },
  {
   "cell_type": "code",
   "execution_count": 2,
   "metadata": {},
   "outputs": [],
   "source": [
    "trainer_param_tmpl = yaml.safe_load(\"\"\"\n",
    "trainer_id: 601e7868853660e1ba22c78e\n",
    "battles: 100000\n",
    "checkpoint_per_battles: 10000\n",
    "party_tags:\n",
    "- random_200917_1\n",
    "tags:\n",
    "- testrun_210206_2\n",
    "trainer:\n",
    "  dqn_params:\n",
    "    epsilon: 0.3\n",
    "    epsilon_decay: 2.0e-06\n",
    "    epsilon_min: 0.01\n",
    "    gamma: 0.95\n",
    "    lr: 1.0e-05\n",
    "  feature_params:\n",
    "    party_size: 3\n",
    "  model_params:\n",
    "    bn: false\n",
    "    n_channels: 64\n",
    "    n_layers: 3\n",
    "surrogate_reward:\n",
    "  hp_ratio: 0.25\n",
    "  alive_ratio: 0.25\n",
    "match_config:\n",
    "  random_std: -1.0\n",
    "\"\"\")"
   ]
  },
  {
   "cell_type": "code",
   "execution_count": 3,
   "metadata": {},
   "outputs": [],
   "source": [
    "hillclimb_param_tmpl = yaml.safe_load(\"\"\"\n",
    "random_party_generator:\n",
    "  regulation: \"finalgoodmove3vs3\"\n",
    "  neighbor_poke_change_rate: 0.1\n",
    "  neighbor_item_change_rate: 0.0\n",
    "fitness_weight:\n",
    "  party_feature_names: [\"P\", \"M\", \"PM\", \"MM\", \"PP\"]\n",
    "  party_feature_penalty: 0.1\n",
    "n: 871\n",
    "generations: 100\n",
    "populations: 10\n",
    "trainer_id: 601e7868853660e1ba22c78e\n",
    "dst_tags: []\n",
    "\"\"\")"
   ]
  },
  {
   "cell_type": "code",
   "execution_count": 4,
   "metadata": {},
   "outputs": [],
   "source": [
    "tag_prefix = \"rl_loop_210227_1_\""
   ]
  },
  {
   "cell_type": "code",
   "execution_count": 5,
   "metadata": {},
   "outputs": [],
   "source": [
    "file_base_dir = r\"D:\\dev\\pokeai\\pokeai\\experiment\\team\\rl\\rl_loop_210227_1\""
   ]
  },
  {
   "cell_type": "code",
   "execution_count": 6,
   "metadata": {},
   "outputs": [],
   "source": [
    "regulation = \"finalgoodmove3vs3\""
   ]
  },
  {
   "cell_type": "code",
   "execution_count": 7,
   "metadata": {},
   "outputs": [
    {
     "name": "stdout",
     "output_type": "stream",
     "text": [
      "\n",
      "python -m pokeai.ai.generate_party rl_loop_210227_1_hc_0 -n 871 -r finalgoodmove3vs3\n",
      "\n",
      "python -m pokeai.ai.generate_party rl_loop_210227_1_allonce_0 --all_pokemon_once -r finalgoodmove3vs3\n",
      "python -m pokeai.ai.generic_move_model.rl_train D:\\dev\\pokeai\\pokeai\\experiment\\team\\rl\\rl_loop_210227_1\\rl_loop_210227_1_0_train.yaml \n",
      "python -m pokeai.ai.party_feature.hillclimb_party D:\\dev\\pokeai\\pokeai\\experiment\\team\\rl\\rl_loop_210227_1\\rl_loop_210227_1_0_hc.yaml\n",
      "rem {\"iternum\": 0, \"trainer_id\": \"6039caccaf28292a4eae380a\", \"train_party_tags\": [\"rl_loop_210227_1_allonce_0\", \"rl_loop_210227_1_hc_0\"], \"gen_party_tag\": \"rl_loop_210227_1_hc_1\"}\n",
      "\n",
      "python -m pokeai.ai.generate_party rl_loop_210227_1_allonce_1 --all_pokemon_once -r finalgoodmove3vs3\n",
      "python -m pokeai.ai.generic_move_model.rl_train D:\\dev\\pokeai\\pokeai\\experiment\\team\\rl\\rl_loop_210227_1\\rl_loop_210227_1_1_train.yaml --initialize_by_trainer 6039caccaf28292a4eae380a\n",
      "python -m pokeai.ai.party_feature.hillclimb_party D:\\dev\\pokeai\\pokeai\\experiment\\team\\rl\\rl_loop_210227_1\\rl_loop_210227_1_1_hc.yaml\n",
      "rem {\"iternum\": 1, \"trainer_id\": \"6039caccaf28292a4eae380b\", \"train_party_tags\": [\"rl_loop_210227_1_allonce_1\", \"rl_loop_210227_1_hc_1\"], \"gen_party_tag\": \"rl_loop_210227_1_hc_2\"}\n",
      "\n",
      "python -m pokeai.ai.generate_party rl_loop_210227_1_allonce_2 --all_pokemon_once -r finalgoodmove3vs3\n",
      "python -m pokeai.ai.generic_move_model.rl_train D:\\dev\\pokeai\\pokeai\\experiment\\team\\rl\\rl_loop_210227_1\\rl_loop_210227_1_2_train.yaml --initialize_by_trainer 6039caccaf28292a4eae380b\n",
      "python -m pokeai.ai.party_feature.hillclimb_party D:\\dev\\pokeai\\pokeai\\experiment\\team\\rl\\rl_loop_210227_1\\rl_loop_210227_1_2_hc.yaml\n",
      "rem {\"iternum\": 2, \"trainer_id\": \"6039caccaf28292a4eae380c\", \"train_party_tags\": [\"rl_loop_210227_1_allonce_2\", \"rl_loop_210227_1_hc_2\"], \"gen_party_tag\": \"rl_loop_210227_1_hc_3\"}\n",
      "\n",
      "python -m pokeai.ai.generate_party rl_loop_210227_1_allonce_3 --all_pokemon_once -r finalgoodmove3vs3\n",
      "python -m pokeai.ai.generic_move_model.rl_train D:\\dev\\pokeai\\pokeai\\experiment\\team\\rl\\rl_loop_210227_1\\rl_loop_210227_1_3_train.yaml --initialize_by_trainer 6039caccaf28292a4eae380c\n",
      "python -m pokeai.ai.party_feature.hillclimb_party D:\\dev\\pokeai\\pokeai\\experiment\\team\\rl\\rl_loop_210227_1\\rl_loop_210227_1_3_hc.yaml\n",
      "rem {\"iternum\": 3, \"trainer_id\": \"6039caccaf28292a4eae380d\", \"train_party_tags\": [\"rl_loop_210227_1_allonce_3\", \"rl_loop_210227_1_hc_3\"], \"gen_party_tag\": \"rl_loop_210227_1_hc_4\"}\n",
      "\n",
      "python -m pokeai.ai.generate_party rl_loop_210227_1_allonce_4 --all_pokemon_once -r finalgoodmove3vs3\n",
      "python -m pokeai.ai.generic_move_model.rl_train D:\\dev\\pokeai\\pokeai\\experiment\\team\\rl\\rl_loop_210227_1\\rl_loop_210227_1_4_train.yaml --initialize_by_trainer 6039caccaf28292a4eae380d\n",
      "python -m pokeai.ai.party_feature.hillclimb_party D:\\dev\\pokeai\\pokeai\\experiment\\team\\rl\\rl_loop_210227_1\\rl_loop_210227_1_4_hc.yaml\n",
      "rem {\"iternum\": 4, \"trainer_id\": \"6039caccaf28292a4eae380e\", \"train_party_tags\": [\"rl_loop_210227_1_allonce_4\", \"rl_loop_210227_1_hc_4\"], \"gen_party_tag\": \"rl_loop_210227_1_hc_5\"}\n",
      "\n",
      "python -m pokeai.ai.generate_party rl_loop_210227_1_allonce_5 --all_pokemon_once -r finalgoodmove3vs3\n",
      "python -m pokeai.ai.generic_move_model.rl_train D:\\dev\\pokeai\\pokeai\\experiment\\team\\rl\\rl_loop_210227_1\\rl_loop_210227_1_5_train.yaml --initialize_by_trainer 6039caccaf28292a4eae380e\n",
      "python -m pokeai.ai.party_feature.hillclimb_party D:\\dev\\pokeai\\pokeai\\experiment\\team\\rl\\rl_loop_210227_1\\rl_loop_210227_1_5_hc.yaml\n",
      "rem {\"iternum\": 5, \"trainer_id\": \"6039caccaf28292a4eae380f\", \"train_party_tags\": [\"rl_loop_210227_1_allonce_5\", \"rl_loop_210227_1_hc_5\"], \"gen_party_tag\": \"rl_loop_210227_1_hc_6\"}\n",
      "\n",
      "python -m pokeai.ai.generate_party rl_loop_210227_1_allonce_6 --all_pokemon_once -r finalgoodmove3vs3\n",
      "python -m pokeai.ai.generic_move_model.rl_train D:\\dev\\pokeai\\pokeai\\experiment\\team\\rl\\rl_loop_210227_1\\rl_loop_210227_1_6_train.yaml --initialize_by_trainer 6039caccaf28292a4eae380f\n",
      "python -m pokeai.ai.party_feature.hillclimb_party D:\\dev\\pokeai\\pokeai\\experiment\\team\\rl\\rl_loop_210227_1\\rl_loop_210227_1_6_hc.yaml\n",
      "rem {\"iternum\": 6, \"trainer_id\": \"6039caccaf28292a4eae3810\", \"train_party_tags\": [\"rl_loop_210227_1_allonce_6\", \"rl_loop_210227_1_hc_6\"], \"gen_party_tag\": \"rl_loop_210227_1_hc_7\"}\n",
      "\n",
      "python -m pokeai.ai.generate_party rl_loop_210227_1_allonce_7 --all_pokemon_once -r finalgoodmove3vs3\n",
      "python -m pokeai.ai.generic_move_model.rl_train D:\\dev\\pokeai\\pokeai\\experiment\\team\\rl\\rl_loop_210227_1\\rl_loop_210227_1_7_train.yaml --initialize_by_trainer 6039caccaf28292a4eae3810\n",
      "python -m pokeai.ai.party_feature.hillclimb_party D:\\dev\\pokeai\\pokeai\\experiment\\team\\rl\\rl_loop_210227_1\\rl_loop_210227_1_7_hc.yaml\n",
      "rem {\"iternum\": 7, \"trainer_id\": \"6039caccaf28292a4eae3811\", \"train_party_tags\": [\"rl_loop_210227_1_allonce_7\", \"rl_loop_210227_1_hc_7\"], \"gen_party_tag\": \"rl_loop_210227_1_hc_8\"}\n",
      "\n",
      "python -m pokeai.ai.generate_party rl_loop_210227_1_allonce_8 --all_pokemon_once -r finalgoodmove3vs3\n",
      "python -m pokeai.ai.generic_move_model.rl_train D:\\dev\\pokeai\\pokeai\\experiment\\team\\rl\\rl_loop_210227_1\\rl_loop_210227_1_8_train.yaml --initialize_by_trainer 6039caccaf28292a4eae3811\n",
      "python -m pokeai.ai.party_feature.hillclimb_party D:\\dev\\pokeai\\pokeai\\experiment\\team\\rl\\rl_loop_210227_1\\rl_loop_210227_1_8_hc.yaml\n",
      "rem {\"iternum\": 8, \"trainer_id\": \"6039caccaf28292a4eae3812\", \"train_party_tags\": [\"rl_loop_210227_1_allonce_8\", \"rl_loop_210227_1_hc_8\"], \"gen_party_tag\": \"rl_loop_210227_1_hc_9\"}\n",
      "\n",
      "python -m pokeai.ai.generate_party rl_loop_210227_1_allonce_9 --all_pokemon_once -r finalgoodmove3vs3\n",
      "python -m pokeai.ai.generic_move_model.rl_train D:\\dev\\pokeai\\pokeai\\experiment\\team\\rl\\rl_loop_210227_1\\rl_loop_210227_1_9_train.yaml --initialize_by_trainer 6039caccaf28292a4eae3812\n",
      "python -m pokeai.ai.party_feature.hillclimb_party D:\\dev\\pokeai\\pokeai\\experiment\\team\\rl\\rl_loop_210227_1\\rl_loop_210227_1_9_hc.yaml\n",
      "rem {\"iternum\": 9, \"trainer_id\": \"6039caccaf28292a4eae3813\", \"train_party_tags\": [\"rl_loop_210227_1_allonce_9\", \"rl_loop_210227_1_hc_9\"], \"gen_party_tag\": \"rl_loop_210227_1_hc_10\"}\n",
      "\n"
     ]
    }
   ],
   "source": [
    "cmds = \"\"\n",
    "last_trainer_id = None\n",
    "os.mkdir(file_base_dir)\n",
    "for iternum in range(10):\n",
    "    party_allonce = f\"{tag_prefix}allonce_{iternum}\"\n",
    "    party_prev_gen = f\"{tag_prefix}hc_{iternum}\"\n",
    "    if iternum == 0:\n",
    "        cmds += f\"\"\"\n",
    "python -m pokeai.ai.generate_party {party_prev_gen} -n 871 -r {regulation}\n",
    "\"\"\"\n",
    "    train_param = copy.deepcopy(trainer_param_tmpl)\n",
    "    trainer_id = ObjectId()\n",
    "    train_param[\"party_tags\"] = [party_allonce, party_prev_gen]\n",
    "    train_param[\"tags\"] = [f\"{tag_prefix}{iternum}\"]\n",
    "    train_param[\"trainer_id\"] = str(trainer_id)\n",
    "    train_param_file = os.path.join(file_base_dir, f\"{tag_prefix}{iternum}_train.yaml\")\n",
    "    yaml_dump(train_param, train_param_file)\n",
    "    party_gen = f\"{tag_prefix}hc_{iternum+1}\"\n",
    "    hillclimb_param = copy.deepcopy(hillclimb_param_tmpl)\n",
    "    hillclimb_param[\"trainer_id\"] = str(trainer_id)\n",
    "    hillclimb_param[\"dst_tags\"] = [party_gen]\n",
    "    hillclimb_param_file = os.path.join(file_base_dir, f\"{tag_prefix}{iternum}_hc.yaml\")\n",
    "    yaml_dump(hillclimb_param, hillclimb_param_file)\n",
    "    resume_trainer_id = f\"--initialize_by_trainer {last_trainer_id}\" if last_trainer_id else \"\"\n",
    "    comment_info = json.dumps({\"iternum\": iternum, \"trainer_id\": str(trainer_id), \"train_party_tags\": train_param[\"party_tags\"], \"gen_party_tag\": party_gen})\n",
    "    cmds += f\"\"\"\n",
    "python -m pokeai.ai.generate_party {party_allonce} --all_pokemon_once -r {regulation}\n",
    "python -m pokeai.ai.generic_move_model.rl_train {train_param_file} {resume_trainer_id}\n",
    "python -m pokeai.ai.party_feature.hillclimb_party {hillclimb_param_file}\n",
    "rem {comment_info}\n",
    "\"\"\"\n",
    "    last_trainer_id = trainer_id\n",
    "\n",
    "print(cmds)\n",
    "with open(os.path.join(file_base_dir, f\"{tag_prefix}run.bat\"), \"w\") as f:\n",
    "    f.write(cmds)\n"
   ]
  },
  {
   "cell_type": "code",
   "execution_count": null,
   "metadata": {},
   "outputs": [],
   "source": []
  }
 ],
 "metadata": {
  "kernelspec": {
   "display_name": "Python 3",
   "language": "python",
   "name": "python3"
  },
  "language_info": {
   "codemirror_mode": {
    "name": "ipython",
    "version": 3
   },
   "file_extension": ".py",
   "mimetype": "text/x-python",
   "name": "python",
   "nbconvert_exporter": "python",
   "pygments_lexer": "ipython3",
   "version": "3.8.1"
  }
 },
 "nbformat": 4,
 "nbformat_minor": 4
}
